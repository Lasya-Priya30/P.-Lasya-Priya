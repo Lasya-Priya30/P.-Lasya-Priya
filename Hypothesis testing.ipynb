{
 "cells": [
  {
   "cell_type": "markdown",
   "id": "e6a354e9-fadd-4d12-991b-039cb4570344",
   "metadata": {},
   "source": [
    "Hypothesis-testing"
   ]
  },
  {
   "cell_type": "code",
   "execution_count": 9,
   "id": "cdc3efd0-1445-4d45-bc9a-be489a649b5c",
   "metadata": {},
   "outputs": [],
   "source": [
    "import numpy as np\n",
    "from scipy.stats import norm"
   ]
  },
  {
   "cell_type": "code",
   "execution_count": 10,
   "id": "cc0ea8c8-b172-426f-8473-a8fd522e6a69",
   "metadata": {},
   "outputs": [],
   "source": [
    "# Given data\n",
    "\n",
    "sample_mean = 3050\n",
    "theoretical_mean = 1000 + 5 * 600\n",
    "std_dev = 5 * 25\n",
    "n = 25\n",
    "alpha = 0.05"
   ]
  },
  {
   "cell_type": "code",
   "execution_count": 11,
   "id": "de0880ce-0d90-4219-bf37-470c78d47e5d",
   "metadata": {},
   "outputs": [],
   "source": [
    "# Calculate the test statistic (t)\n",
    "\n",
    "t_statistic = (sample_mean - theoretical_mean) / (std_dev / np.sqrt(n))"
   ]
  },
  {
   "cell_type": "code",
   "execution_count": 12,
   "id": "3fdf27af-61b0-44a8-b4b8-fefb1c478440",
   "metadata": {},
   "outputs": [],
   "source": [
    "# Determine the critical value from the standard normal distribution\n",
    "\n",
    "critical_value = norm.ppf(1 - alpha)"
   ]
  },
  {
   "cell_type": "code",
   "execution_count": 13,
   "id": "1ea587fc-3300-4fef-9074-476f4866ae0f",
   "metadata": {},
   "outputs": [],
   "source": [
    "# Make a decision\n",
    "\n",
    "if t_statistic > critical_value:\n",
    "    conclusion = \"Reject the null hypothesis\"\n",
    "else:\n",
    "    conclusion = \"Fail to reject the null hypothesis\""
   ]
  },
  {
   "cell_type": "code",
   "execution_count": 14,
   "id": "c6eb8160-57a9-475a-be84-49e7b4bd44b4",
   "metadata": {},
   "outputs": [
    {
     "name": "stdout",
     "output_type": "stream",
     "text": [
      "Test Statistic (t): -38.0\n",
      "Critical Value: 1.6448536269514722\n",
      "Decision: Fail to reject the null hypothesis\n",
      "Conclusion: Based on the decision, there is no strong evidence to support the restaurant owners' claim.\n"
     ]
    }
   ],
   "source": [
    "# Conclusion\n",
    "\n",
    "if conclusion == \"Reject the null hypothesis\":\n",
    "    evidence = \"strong evidence\"\n",
    "else:\n",
    "    evidence = \"no strong evidence\"\n",
    "\n",
    "print(\"Test Statistic (t):\", t_statistic)\n",
    "print(\"Critical Value:\", critical_value)\n",
    "print(\"Decision:\", conclusion)\n",
    "print(\"Conclusion: Based on the decision, there is\", evidence, \"to support the restaurant owners' claim.\")"
   ]
  },
  {
   "cell_type": "markdown",
   "id": "9f930c9f-dab1-4f10-ac59-ec8388a20d23",
   "metadata": {},
   "source": [
    "Chisquare-test"
   ]
  },
  {
   "cell_type": "code",
   "execution_count": 15,
   "id": "efd588c3-56fa-4401-a509-964823c4be45",
   "metadata": {},
   "outputs": [],
   "source": [
    "import numpy as np\n",
    "from scipy.stats import chi2"
   ]
  },
  {
   "cell_type": "code",
   "execution_count": 16,
   "id": "c8641d52-c2a1-4d8b-b27e-f902282f5a37",
   "metadata": {},
   "outputs": [],
   "source": [
    "# Given data\n",
    "\n",
    "observed = np.array([[50, 70],\n",
    "                     [80, 100],\n",
    "                     [60, 90],\n",
    "                     [30, 50],\n",
    "                     [20, 50]])"
   ]
  },
  {
   "cell_type": "code",
   "execution_count": 17,
   "id": "d94fa8b1-da26-4743-bd5b-0308f6e44ec6",
   "metadata": {},
   "outputs": [],
   "source": [
    "# Calculate expected frequencies\n",
    "\n",
    "row_totals = observed.sum(axis=1)\n",
    "col_totals = observed.sum(axis=0)\n",
    "total = observed.sum()\n",
    "expected = np.outer(row_totals, col_totals) / total"
   ]
  },
  {
   "cell_type": "code",
   "execution_count": 18,
   "id": "0148e910-a527-4d23-8668-6c547ef5d97f",
   "metadata": {},
   "outputs": [],
   "source": [
    "# Calculate chi-square statistic\n",
    "\n",
    "chi2_statistic = np.sum((observed - expected)**2 / expected)"
   ]
  },
  {
   "cell_type": "code",
   "execution_count": 19,
   "id": "49302b06-5643-4a68-a314-2c8d134ccefd",
   "metadata": {},
   "outputs": [],
   "source": [
    "# Degrees of freedom\n",
    "\n",
    "degrees_of_freedom = (observed.shape[0] - 1) * (observed.shape[1] - 1)"
   ]
  },
  {
   "cell_type": "code",
   "execution_count": 20,
   "id": "34e82cd8-774b-4062-8ec9-f0cb8ca86928",
   "metadata": {},
   "outputs": [],
   "source": [
    "# Determine critical value\n",
    "\n",
    "alpha = 0.05\n",
    "critical_value = chi2.ppf(1 - alpha, degrees_of_freedom)"
   ]
  },
  {
   "cell_type": "code",
   "execution_count": 21,
   "id": "67267a9d-fb6d-4309-9e3c-8f7cdfb3e62b",
   "metadata": {},
   "outputs": [
    {
     "name": "stdout",
     "output_type": "stream",
     "text": [
      "Chi-Square Statistic: 5.638227513227513\n",
      "Critical Value: 9.487729036781154\n",
      "Conclusion: Fail to reject the null hypothesis\n"
     ]
    }
   ],
   "source": [
    "# Make a decision\n",
    "\n",
    "if chi2_statistic > critical_value:\n",
    "    conclusion = \"Reject the null hypothesis\"\n",
    "else:\n",
    "    conclusion = \"Fail to reject the null hypothesis\"\n",
    "\n",
    "print(\"Chi-Square Statistic:\", chi2_statistic)\n",
    "print(\"Critical Value:\", critical_value)\n",
    "print(\"Conclusion:\", conclusion)"
   ]
  },
  {
   "cell_type": "code",
   "execution_count": null,
   "id": "d9f903d9-d099-49bf-9413-98d9741c2bf8",
   "metadata": {},
   "outputs": [],
   "source": []
  }
 ],
 "metadata": {
  "kernelspec": {
   "display_name": "Python 3 (ipykernel)",
   "language": "python",
   "name": "python3"
  },
  "language_info": {
   "codemirror_mode": {
    "name": "ipython",
    "version": 3
   },
   "file_extension": ".py",
   "mimetype": "text/x-python",
   "name": "python",
   "nbconvert_exporter": "python",
   "pygments_lexer": "ipython3",
   "version": "3.12.4"
  }
 },
 "nbformat": 4,
 "nbformat_minor": 5
}
