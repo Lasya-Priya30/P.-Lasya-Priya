{
 "cells": [
  {
   "cell_type": "markdown",
   "id": "d214525c-350b-4cb6-8d31-90cd2eec41bd",
   "metadata": {},
   "source": [
    "Exercise 1: Prime Numbers"
   ]
  },
  {
   "cell_type": "code",
   "execution_count": 1,
   "id": "83e505af-957c-4d7e-bd4c-40cde56c171f",
   "metadata": {},
   "outputs": [
    {
     "name": "stdin",
     "output_type": "stream",
     "text": [
      "Enter a number:  23\n"
     ]
    },
    {
     "name": "stdout",
     "output_type": "stream",
     "text": [
      "23 is a prime number.\n"
     ]
    }
   ],
   "source": [
    "def is_prime(number):\n",
    "    if number <= 1:\n",
    "        return False\n",
    "    elif number <= 3:\n",
    "        return True\n",
    "    elif number % 2 == 0 or number % 3 == 0:\n",
    "        return False\n",
    "    i = 5\n",
    "    while i * i <= number:\n",
    "        if number % i == 0 or number % (i + 2) == 0:\n",
    "            return False\n",
    "        i += 6\n",
    "    return True\n",
    "number = int(input(\"Enter a number: \"))\n",
    "if is_prime(number):\n",
    "    print(f\"{number} is a prime number.\")\n",
    "else:\n",
    "    print(f\"{number} is not a prime number.\")"
   ]
  },
  {
   "cell_type": "markdown",
   "id": "0ff57004-409e-49e8-b8dc-c641ada64460",
   "metadata": {},
   "source": [
    "Exercise 2: Product of Random Numbers"
   ]
  },
  {
   "cell_type": "code",
   "execution_count": 2,
   "id": "233d15f5-fd2a-4a23-a302-9728f928f0ad",
   "metadata": {},
   "outputs": [
    {
     "name": "stdin",
     "output_type": "stream",
     "text": [
      "What is the product of 3 and 13?  60\n"
     ]
    },
    {
     "name": "stdout",
     "output_type": "stream",
     "text": [
      "Incorrect. The correct product is 39.\n"
     ]
    }
   ],
   "source": [
    "import random\n",
    "num1 = random.randint(1, 20)\n",
    "num2 = random.randint(1, 20)\n",
    "product = num1 * num2\n",
    "user_input = int(input(f\"What is the product of {num1} and {num2}? \"))\n",
    "if user_input == product:\n",
    "    print(\"Correct! You got the right product.\")\n",
    "else:\n",
    "    print(f\"Incorrect. The correct product is {product}.\")"
   ]
  },
  {
   "cell_type": "markdown",
   "id": "17d5f39c-043a-48a2-9f15-563c6c472009",
   "metadata": {},
   "source": [
    "Exercise 3: Squares of Even/Odd Numbers"
   ]
  },
  {
   "cell_type": "code",
   "execution_count": 3,
   "id": "3cdcde29-d6b6-4d71-a8ae-c4745799e0fd",
   "metadata": {},
   "outputs": [
    {
     "name": "stdout",
     "output_type": "stream",
     "text": [
      "Squares of even numbers within the range of 100 to 200:\n",
      "The square of 100 is 10000\n",
      "The square of 102 is 10404\n",
      "The square of 104 is 10816\n",
      "The square of 106 is 11236\n",
      "The square of 108 is 11664\n",
      "The square of 110 is 12100\n",
      "The square of 112 is 12544\n",
      "The square of 114 is 12996\n",
      "The square of 116 is 13456\n",
      "The square of 118 is 13924\n",
      "The square of 120 is 14400\n",
      "The square of 122 is 14884\n",
      "The square of 124 is 15376\n",
      "The square of 126 is 15876\n",
      "The square of 128 is 16384\n",
      "The square of 130 is 16900\n",
      "The square of 132 is 17424\n",
      "The square of 134 is 17956\n",
      "The square of 136 is 18496\n",
      "The square of 138 is 19044\n",
      "The square of 140 is 19600\n",
      "The square of 142 is 20164\n",
      "The square of 144 is 20736\n",
      "The square of 146 is 21316\n",
      "The square of 148 is 21904\n",
      "The square of 150 is 22500\n",
      "The square of 152 is 23104\n",
      "The square of 154 is 23716\n",
      "The square of 156 is 24336\n",
      "The square of 158 is 24964\n",
      "The square of 160 is 25600\n",
      "The square of 162 is 26244\n",
      "The square of 164 is 26896\n",
      "The square of 166 is 27556\n",
      "The square of 168 is 28224\n",
      "The square of 170 is 28900\n",
      "The square of 172 is 29584\n",
      "The square of 174 is 30276\n",
      "The square of 176 is 30976\n",
      "The square of 178 is 31684\n",
      "The square of 180 is 32400\n",
      "The square of 182 is 33124\n",
      "The square of 184 is 33856\n",
      "The square of 186 is 34596\n",
      "The square of 188 is 35344\n",
      "The square of 190 is 36100\n",
      "The square of 192 is 36864\n",
      "The square of 194 is 37636\n",
      "The square of 196 is 38416\n",
      "The square of 198 is 39204\n",
      "The square of 200 is 40000\n"
     ]
    }
   ],
   "source": [
    "def print_squares_of_even_numbers():\n",
    "    for number in range(100, 201, 2):\n",
    "        square = number ** 2\n",
    "        print(f\"The square of {number} is {square}\")\n",
    "\n",
    "print(\"Squares of even numbers within the range of 100 to 200:\")\n",
    "print_squares_of_even_numbers()"
   ]
  },
  {
   "cell_type": "markdown",
   "id": "b9f2a101-5e6d-454e-85a2-fd1f37f5873f",
   "metadata": {},
   "source": [
    "Exercise 4: Word counter"
   ]
  },
  {
   "cell_type": "code",
   "execution_count": 4,
   "id": "2c76ff87-a83f-4e6b-ba90-f6a58a5845d1",
   "metadata": {},
   "outputs": [
    {
     "name": "stdout",
     "output_type": "stream",
     "text": [
      "'this': 2\n",
      "'is': 1\n",
      "'a': 1\n",
      "'sample': 1\n",
      "'text': 2\n",
      "'will': 1\n",
      "'be': 1\n",
      "'used': 1\n",
      "'to': 1\n",
      "'demonstrate': 1\n",
      "'the': 1\n",
      "'word': 1\n",
      "'counter': 1\n"
     ]
    }
   ],
   "source": [
    "def word_counter(input_text):\n",
    "    words = input_text.split()\n",
    "    word_counts = {}\n",
    "    for word in words:\n",
    "        word = word.strip(\".,!?\")\n",
    "        word = word.lower()\n",
    "        word_counts[word] = word_counts.get(word, 0) + 1\n",
    "    for word, count in word_counts.items():\n",
    "        print(f\"'{word}': {count}\")\n",
    "input_text = \"This is a sample text. This text will be used to demonstrate the word counter.\"\n",
    "word_counter(input_text)"
   ]
  },
  {
   "cell_type": "markdown",
   "id": "514ce6ae-2307-4410-a5ee-0c9d190f062d",
   "metadata": {},
   "source": [
    "Exercise 5: Check for Palindrome"
   ]
  },
  {
   "cell_type": "code",
   "execution_count": 5,
   "id": "c2679024-05a2-49dd-aa7e-eea5d0729bf3",
   "metadata": {},
   "outputs": [
    {
     "name": "stdin",
     "output_type": "stream",
     "text": [
      "Enter Any String: Puppy\n"
     ]
    },
    {
     "name": "stdout",
     "output_type": "stream",
     "text": [
      "False\n"
     ]
    }
   ],
   "source": [
    "def is_palindrome(s):\n",
    "    # Remove spaces and convert to lowercase\n",
    "    s = s.replace(\" \", \"\").lower()\n",
    "    # Check if the string is equal to its reverse\n",
    "    return s == s[::-1]\n",
    "input_string = input(\"Enter Any String:\")\n",
    "print(is_palindrome(input_string)) "
   ]
  },
  {
   "cell_type": "code",
   "execution_count": null,
   "id": "f402c10a-77a8-4737-8b97-1eaf8c16e787",
   "metadata": {},
   "outputs": [],
   "source": []
  }
 ],
 "metadata": {
  "kernelspec": {
   "display_name": "Python 3 (ipykernel)",
   "language": "python",
   "name": "python3"
  },
  "language_info": {
   "codemirror_mode": {
    "name": "ipython",
    "version": 3
   },
   "file_extension": ".py",
   "mimetype": "text/x-python",
   "name": "python",
   "nbconvert_exporter": "python",
   "pygments_lexer": "ipython3",
   "version": "3.12.4"
  }
 },
 "nbformat": 4,
 "nbformat_minor": 5
}
